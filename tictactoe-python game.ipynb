{
 "cells": [
  {
   "cell_type": "code",
   "execution_count": 2,
   "id": "178cdc2f-b985-45dd-9107-85a9414cab38",
   "metadata": {},
   "outputs": [
    {
     "name": "stdout",
     "output_type": "stream",
     "text": [
      "Welcome to Tic Tac Toe!\n",
      "\n",
      "\n",
      "1 | 2 | 3\n",
      "--+---+--\n",
      "4 | 5 | 6\n",
      "--+---+--\n",
      "7 | 8 | 9\n",
      "\n",
      "\n"
     ]
    },
    {
     "name": "stdin",
     "output_type": "stream",
     "text": [
      "Player X, enter your move (1-9):  1\n"
     ]
    },
    {
     "name": "stdout",
     "output_type": "stream",
     "text": [
      "\n",
      "\n",
      "X | 2 | 3\n",
      "--+---+--\n",
      "4 | 5 | 6\n",
      "--+---+--\n",
      "7 | 8 | 9\n",
      "\n",
      "\n"
     ]
    },
    {
     "name": "stdin",
     "output_type": "stream",
     "text": [
      "Player O, enter your move (1-9):  4\n"
     ]
    },
    {
     "name": "stdout",
     "output_type": "stream",
     "text": [
      "\n",
      "\n",
      "X | 2 | 3\n",
      "--+---+--\n",
      "O | 5 | 6\n",
      "--+---+--\n",
      "7 | 8 | 9\n",
      "\n",
      "\n"
     ]
    },
    {
     "name": "stdin",
     "output_type": "stream",
     "text": [
      "Player X, enter your move (1-9):  5\n"
     ]
    },
    {
     "name": "stdout",
     "output_type": "stream",
     "text": [
      "\n",
      "\n",
      "X | 2 | 3\n",
      "--+---+--\n",
      "O | X | 6\n",
      "--+---+--\n",
      "7 | 8 | 9\n",
      "\n",
      "\n"
     ]
    },
    {
     "name": "stdin",
     "output_type": "stream",
     "text": [
      "Player O, enter your move (1-9):  9\n"
     ]
    },
    {
     "name": "stdout",
     "output_type": "stream",
     "text": [
      "\n",
      "\n",
      "X | 2 | 3\n",
      "--+---+--\n",
      "O | X | 6\n",
      "--+---+--\n",
      "7 | 8 | O\n",
      "\n",
      "\n"
     ]
    },
    {
     "name": "stdin",
     "output_type": "stream",
     "text": [
      "Player X, enter your move (1-9):  3\n"
     ]
    },
    {
     "name": "stdout",
     "output_type": "stream",
     "text": [
      "\n",
      "\n",
      "X | 2 | X\n",
      "--+---+--\n",
      "O | X | 6\n",
      "--+---+--\n",
      "7 | 8 | O\n",
      "\n",
      "\n"
     ]
    },
    {
     "name": "stdin",
     "output_type": "stream",
     "text": [
      "Player O, enter your move (1-9):  2\n"
     ]
    },
    {
     "name": "stdout",
     "output_type": "stream",
     "text": [
      "\n",
      "\n",
      "X | O | X\n",
      "--+---+--\n",
      "O | X | 6\n",
      "--+---+--\n",
      "7 | 8 | O\n",
      "\n",
      "\n"
     ]
    },
    {
     "name": "stdin",
     "output_type": "stream",
     "text": [
      "Player X, enter your move (1-9):  7\n"
     ]
    },
    {
     "name": "stdout",
     "output_type": "stream",
     "text": [
      "\n",
      "\n",
      "X | O | X\n",
      "--+---+--\n",
      "O | X | 6\n",
      "--+---+--\n",
      "X | 8 | O\n",
      "\n",
      "\n",
      "🎉 Player X wins!\n"
     ]
    }
   ],
   "source": [
    "# Tic Tac Toe Game in Python (2 players)\n",
    "\n",
    "def print_board(board):\n",
    "    print(\"\\n\")\n",
    "    print(f\"{board[0]} | {board[1]} | {board[2]}\")\n",
    "    print(\"--+---+--\")\n",
    "    print(f\"{board[3]} | {board[4]} | {board[5]}\")\n",
    "    print(\"--+---+--\")\n",
    "    print(f\"{board[6]} | {board[7]} | {board[8]}\")\n",
    "    print(\"\\n\")\n",
    "\n",
    "def check_win(board, player):\n",
    "    win_conditions = [\n",
    "        [0, 1, 2], [3, 4, 5], [6, 7, 8],  # rows\n",
    "        [0, 3, 6], [1, 4, 7], [2, 5, 8],  # columns\n",
    "        [0, 4, 8], [2, 4, 6]              # diagonals\n",
    "    ]\n",
    "    for condition in win_conditions:\n",
    "        if board[condition[0]] == board[condition[1]] == board[condition[2]] == player:\n",
    "            return True\n",
    "    return False\n",
    "\n",
    "def is_draw(board):\n",
    "    return all(cell in ['X', 'O'] for cell in board)\n",
    "\n",
    "def tic_tac_toe():\n",
    "    board = ['1', '2', '3', '4', '5', '6', '7', '8', '9']\n",
    "    current_player = 'X'\n",
    "\n",
    "    print(\"Welcome to Tic Tac Toe!\")\n",
    "    print_board(board)\n",
    "\n",
    "    while True:\n",
    "        try:\n",
    "            move = int(input(f\"Player {current_player}, enter your move (1-9): \"))\n",
    "            if board[move - 1] in ['X', 'O']:\n",
    "                print(\"Cell already taken! Choose another.\")\n",
    "                continue\n",
    "            board[move - 1] = current_player\n",
    "            print_board(board)\n",
    "\n",
    "            if check_win(board, current_player):\n",
    "                print(f\"🎉 Player {current_player} wins!\")\n",
    "                break\n",
    "            if is_draw(board):\n",
    "                print(\"It's a draw!\")\n",
    "                break\n",
    "\n",
    "            current_player = 'O' if current_player == 'X' else 'X'\n",
    "\n",
    "        except (ValueError, IndexError):\n",
    "            print(\"Invalid input! Please enter a number between 1 and 9.\")\n",
    "\n",
    "tic_tac_toe()\n"
   ]
  },
  {
   "cell_type": "code",
   "execution_count": null,
   "id": "721316f7-19db-4c66-8c85-16b07e0fe0b6",
   "metadata": {},
   "outputs": [],
   "source": []
  }
 ],
 "metadata": {
  "kernelspec": {
   "display_name": "Python [conda env:base] *",
   "language": "python",
   "name": "conda-base-py"
  },
  "language_info": {
   "codemirror_mode": {
    "name": "ipython",
    "version": 3
   },
   "file_extension": ".py",
   "mimetype": "text/x-python",
   "name": "python",
   "nbconvert_exporter": "python",
   "pygments_lexer": "ipython3",
   "version": "3.13.5"
  }
 },
 "nbformat": 4,
 "nbformat_minor": 5
}
